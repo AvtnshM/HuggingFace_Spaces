{
 "cells": [
  {
   "cell_type": "code",
   "execution_count": null,
   "id": "d1082e70",
   "metadata": {},
   "outputs": [],
   "source": [
    "#importing the required libraries, please make sure you have them installed first, or install using !pip\n",
    "from openai import OpenAI\n",
    "import gradio as gr\n",
    "\n",
    "XAI_API_KEY = \"Your API Key goes here\"\n",
    "client = OpenAI(api_key=XAI_API_KEY, base_url=\"https://api.x.ai/v1\")\n",
    "\n",
    "def generate_reply(tweet_content, style): #function to send message to Grok\n",
    "    system_message = f\"\"\"You are an assistant trained to respond in the style of {style}.\n",
    "    Analyze the following tweet and reply humorously in 3-4 sentences, maintaining the wit characteristic of {style}.\n",
    "    Tweet: {tweet_content}\"\"\"\n",
    "\n",
    "    completion = client.chat.completions.create(\n",
    "        model=\"grok-beta\",\n",
    "        messages=[{\"role\": \"system\", \"content\": system_message}]\n",
    "    )\n",
    "    reply = completion.choices[0].message.content\n",
    "    reply_sentences = reply.split('. ')\n",
    "    reply = '. '.join(reply_sentences[:4]) + ('.' if len(reply_sentences) > 4 else '')\n",
    "\n",
    "    return reply\n",
    "\n",
    "\n",
    "def witty_reply(tweet_content, style):#function to call gradio\n",
    "    reply = generate_reply(tweet_content, style)\n",
    "    return reply\n",
    "\n",
    " \n",
    "with gr.Blocks() as iface: #initiating gradio interface\n",
    "    tweet_content = gr.Textbox(label=\"Tweet Content\", placeholder=\"Paste the full tweet with username here\")\n",
    "    style = gr.Radio(choices=[\"Chandler\", \"Niles\"], label=\"Choose Reply Style\")\n",
    "    witty_response = gr.Textbox(label=\"Witty Reply\", interactive=False)\n",
    "\n",
    "    # Button to generate reply\n",
    "    generate_btn = gr.Button(\"Generate Reply\")\n",
    "    generate_btn.click(witty_reply, inputs=[tweet_content, style], outputs=witty_response)\n",
    "\n",
    "iface.launch()"
   ]
  }
 ],
 "metadata": {
  "kernelspec": {
   "display_name": "Python 3 (ipykernel)",
   "language": "python",
   "name": "python3"
  },
  "language_info": {
   "codemirror_mode": {
    "name": "ipython",
    "version": 3
   },
   "file_extension": ".py",
   "mimetype": "text/x-python",
   "name": "python",
   "nbconvert_exporter": "python",
   "pygments_lexer": "ipython3",
   "version": "3.11.5"
  }
 },
 "nbformat": 4,
 "nbformat_minor": 5
}
