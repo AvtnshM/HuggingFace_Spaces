{
 "cells": [
  {
   "cell_type": "code",
   "execution_count": null,
   "id": "0f25e2b8",
   "metadata": {},
   "outputs": [],
   "source": [
    "#importing necessary libraries\n",
    "import os\n",
    "from openai import OpenAI\n",
    "import gradio as gr\n",
    "\n",
    "\n",
    "XAI_API_KEY = os.getenv(\"XAI_API_KEY\")  # getting the xAI api keys from HF secret enviornment\n",
    "client = OpenAI(api_key=XAI_API_KEY, base_url=\"https://api.x.ai/v1\")\n",
    "\n",
    "def generate_theory_question_and_answer(role): #messaging Grok to generate question and answer\n",
    "    system_message = f\"Generate a theoretical interview question for a {role} role.\"\n",
    "    completion = client.chat.completions.create(\n",
    "        model=\"grok-beta\",\n",
    "        messages=[{\"role\": \"system\", \"content\": system_message}]\n",
    "    )\n",
    "    question = completion.choices[0].message.content\n",
    "\n",
    "    system_message = f\"Provide a possible answer to the question: '{question}' for a {role} role.\"\n",
    "    completion = client.chat.completions.create(\n",
    "        model=\"grok-beta\",\n",
    "        messages=[{\"role\": \"system\", \"content\": system_message}]\n",
    "    )\n",
    "    answer = completion.choices[0].message.content\n",
    "\n",
    "    return question, answer\n",
    "\n",
    "\n",
    "def run_interview_simulation(role): #calling Gradio\n",
    "    question, answer = generate_theory_question_and_answer(role)\n",
    "    return question, answer\n",
    "\n",
    "\n",
    "with gr.Blocks() as iface: #launching Gradio interface\n",
    "    role = gr.Textbox(label=\"Job Role\", placeholder=\"Enter job role here\")\n",
    "    theory_question = gr.Textbox(label=\"Question\", interactive=False)\n",
    "    grok_answer = gr.Textbox(label=\"Answer\", interactive=False)\n",
    "\n",
    "    # Button for generating question and answer\n",
    "    generate_btn = gr.Button(\"Generate Question and Answer\")\n",
    "    generate_btn.click(run_interview_simulation, inputs=role, outputs=[theory_question, grok_answer])\n",
    "\n",
    "iface.launch()"
   ]
  }
 ],
 "metadata": {
  "kernelspec": {
   "display_name": "Python 3 (ipykernel)",
   "language": "python",
   "name": "python3"
  },
  "language_info": {
   "codemirror_mode": {
    "name": "ipython",
    "version": 3
   },
   "file_extension": ".py",
   "mimetype": "text/x-python",
   "name": "python",
   "nbconvert_exporter": "python",
   "pygments_lexer": "ipython3",
   "version": "3.11.5"
  }
 },
 "nbformat": 4,
 "nbformat_minor": 5
}
